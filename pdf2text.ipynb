{
 "cells": [
  {
   "cell_type": "code",
   "execution_count": 166,
   "metadata": {
    "collapsed": true
   },
   "outputs": [],
   "source": [
    "import PyPDF2 as pdf"
   ]
  },
  {
   "cell_type": "code",
   "execution_count": 212,
   "metadata": {
    "collapsed": false
   },
   "outputs": [
    {
     "name": "stdout",
     "output_type": "stream",
     "text": [
      "<type 'unicode'>\n",
      "2009\n"
     ]
    }
   ],
   "source": [
    "pdfFileObj = open('resume.pdf', 'rb')\n",
    " \n",
    "# creating a pdf reader object\n",
    "pdfReader = pdf.PdfFileReader(pdfFileObj)\n",
    " \n",
    "# printing number of pages in pdf file\n",
    "#print(pdfReader.numPages)\n",
    " \n",
    "# creating a page object\n",
    "pageObj = pdfReader.getPage(0)\n",
    " \n",
    "# extracting text from page\n",
    "text = pageObj.extractText()\n",
    "\n",
    "\n",
    "\n",
    "print type(text)\n",
    "\n",
    "print len(text)\n",
    "# closing the pdf file object\n",
    "\n",
    "#print text\n",
    "pdfFileObj.close()"
   ]
  },
  {
   "cell_type": "code",
   "execution_count": 213,
   "metadata": {
    "collapsed": false
   },
   "outputs": [],
   "source": [
    "text = text.split(\"\\n\")"
   ]
  },
  {
   "cell_type": "code",
   "execution_count": 214,
   "metadata": {
    "collapsed": false
   },
   "outputs": [],
   "source": [
    "#text.remove(\"\\n\")\n",
    "text.remove(\"\")"
   ]
  },
  {
   "cell_type": "code",
   "execution_count": 215,
   "metadata": {
    "collapsed": false
   },
   "outputs": [
    {
     "data": {
      "text/plain": [
       "[u' ',\n",
       " u'New Delhi, India',\n",
       " u' ',\n",
       " u'|',\n",
       " u' ',\n",
       " u'(+91)9999008844',\n",
       " u' ',\n",
       " u'|',\n",
       " u' ',\n",
       " u'i',\n",
       " u'shpreet_bt2k15@dtu.ac.in',\n",
       " u' ',\n",
       " u'EDUCATION',\n",
       " u' ',\n",
       " u'B.TECH',\n",
       " u' ',\n",
       " u'|',\n",
       " u' ',\n",
       " u'DELHI TECHNOLOGICAL ',\n",
       " u'UNIVERSITY',\n",
       " u', N',\n",
       " u'EW DELHI',\n",
       " u' ',\n",
       " u'\\xb7',\n",
       " u' ',\n",
       " u'Major: ',\n",
       " u'Electronics and Communication Engineering',\n",
       " u' ',\n",
       " u'| ',\n",
       " u'CGPA',\n",
       " u': ',\n",
       " u'7.95',\n",
       " u' ',\n",
       " u'\\xb7',\n",
       " u' ',\n",
       " u'Expected year of Graduation: 2019',\n",
       " u' ',\n",
       " u'HIGH SCHOOL',\n",
       " u' ',\n",
       " u'|',\n",
       " u' ',\n",
       " u'DELHI PUBLIC SCHOOL',\n",
       " u',',\n",
       " u' ',\n",
       " u'DWARKA',\n",
       " u', NEW DELHI',\n",
       " u' ',\n",
       " u'\\xb7',\n",
       " u' ',\n",
       " u'Overall Score: 93.2%',\n",
       " u' ',\n",
       " u'| ',\n",
       " u'Sciences Score',\n",
       " u'(PCM and Computers)',\n",
       " u': ',\n",
       " u'96.25',\n",
       " u'%',\n",
       " u' ',\n",
       " u'| 2014',\n",
       " u' ',\n",
       " u'ACHIEVEMENTS',\n",
       " u' ',\n",
       " u'\\xb7',\n",
       " u' ',\n",
       " u'Awarded Gold Medal in school for academic excellence',\n",
       " u'.',\n",
       " u' ',\n",
       " u'\\xb7',\n",
       " u' ',\n",
       " u'Won S',\n",
       " u'cholar Badge',\n",
       " u' ',\n",
       " u'in school ',\n",
       " u'for 7 consecutive years',\n",
       " u' ',\n",
       " u'for meritorious ',\n",
       " u'academic',\n",
       " u' ',\n",
       " u'performance',\n",
       " u'.',\n",
       " u' ',\n",
       " u'\\xb7',\n",
       " u' ',\n",
       " u'Secured a rank of 9870 in JEE(Mains) 2015.',\n",
       " u' ',\n",
       " u'SKILLS',\n",
       " u' ',\n",
       " u'\\xb7',\n",
       " u' ',\n",
       " u'Programming Languages: ',\n",
       " u'C++',\n",
       " u', ',\n",
       " u'C',\n",
       " u', ',\n",
       " u'Python',\n",
       " u', ',\n",
       " u'MATLAB',\n",
       " u' ',\n",
       " u'\\xb7',\n",
       " u' ',\n",
       " u'Electronics: ',\n",
       " u'Arduino',\n",
       " u', ',\n",
       " u'Digital Hardware designing using VHDL',\n",
       " u' ',\n",
       " u'ACADEMIC COURSES',\n",
       " u' ',\n",
       " u' ',\n",
       " u'Mathematics: ',\n",
       " u'          ',\n",
       " u'Calculus, Linear Algebra & Complex Analysis, Differential Equations,',\n",
       " u' ',\n",
       " u'                                     ',\n",
       " u'Statistics & Probability',\n",
       " u' ',\n",
       " u'Computer Science',\n",
       " u':',\n",
       " u' ',\n",
       " u'Data structures and Algorithms, Pattern Recognition',\n",
       " u',',\n",
       " u' ',\n",
       " u'Algorithm Design and Analysis,',\n",
       " u' ',\n",
       " u'                                     ',\n",
       " u'Computer Architecture',\n",
       " u', Fundamentals of Programming',\n",
       " u' ',\n",
       " u'Electronics',\n",
       " u':',\n",
       " u'    ',\n",
       " u' ',\n",
       " u'         ',\n",
       " u'Digital Electronics',\n",
       " u',',\n",
       " u' ',\n",
       " u'Analog Electronics, Digital System Design, Line',\n",
       " u'ar Integrated',\n",
       " u' ',\n",
       " u'              ',\n",
       " u'      ',\n",
       " u'                 ',\n",
       " u'Circuits',\n",
       " u' ',\n",
       " u'Communication',\n",
       " u': ',\n",
       " u'    ',\n",
       " u'Signal and Systems, Analog an',\n",
       " u'd Digital Communication Systems',\n",
       " u' ',\n",
       " u' ',\n",
       " u'ACADEMIC PROJECTS',\n",
       " u' ',\n",
       " u'\\xb7',\n",
       " u' ',\n",
       " u'T',\n",
       " u'rain',\n",
       " u'ed',\n",
       " u' ',\n",
       " u'a network on ',\n",
       " u'M',\n",
       " u'NIST',\n",
       " u' ',\n",
       " u'dataset',\n",
       " u' ',\n",
       " u'using KNN ',\n",
       " u'an',\n",
       " u'd CNN constructs ',\n",
       " u'a',\n",
       " u'nd compare',\n",
       " u'd the',\n",
       " u' ',\n",
       " u'accura',\n",
       " u'cy of ',\n",
       " u'these',\n",
       " u' ',\n",
       " u'algor',\n",
       " u'ithms using different optimizer',\n",
       " u's and activation function',\n",
       " u'.',\n",
       " u' ',\n",
       " u'Average Efficiency Achieved ',\n",
       " u'',\n",
       " u' ',\n",
       " u'95%',\n",
       " u'(KNN) | 98%(CNN)',\n",
       " u' ',\n",
       " u'\\xb7',\n",
       " u' ',\n",
       " u'Used K Means Clustering Algorithm to extract the most dominant color in an RGB image.',\n",
       " u' ',\n",
       " u'\\xb7',\n",
       " u' ',\n",
       " u'Implementation of various basic machine learning algorithms from scratch in python',\n",
       " u'.',\n",
       " u' ',\n",
       " u'\\xb7',\n",
       " u' ',\n",
       " u'Complete analysis of',\n",
       " u' ',\n",
       " u'Amplifier Circuit',\n",
       " u'-',\n",
       " u' ',\n",
       " u'Measu',\n",
       " u'red Frequency Response, Gain Bandwidth Product and ',\n",
       " u'various other parameters',\n",
       " u'.',\n",
       " u' ',\n",
       " u'']"
      ]
     },
     "execution_count": 215,
     "metadata": {},
     "output_type": "execute_result"
    }
   ],
   "source": [
    "text"
   ]
  },
  {
   "cell_type": "code",
   "execution_count": 216,
   "metadata": {
    "collapsed": true
   },
   "outputs": [],
   "source": [
    "final = ''\n",
    "for ix in range(len(text)):\n",
    "    final = final + text[ix]\n",
    "    "
   ]
  },
  {
   "cell_type": "code",
   "execution_count": 217,
   "metadata": {
    "collapsed": false
   },
   "outputs": [],
   "source": [
    "final = final.lower()"
   ]
  },
  {
   "cell_type": "code",
   "execution_count": 218,
   "metadata": {
    "collapsed": false
   },
   "outputs": [],
   "source": [
    "#final = final.split(\" \")"
   ]
  },
  {
   "cell_type": "code",
   "execution_count": 219,
   "metadata": {
    "collapsed": false
   },
   "outputs": [
    {
     "data": {
      "text/plain": [
       "u' new delhi, india | (+91)9999008844 | ishpreet_bt2k15@dtu.ac.in education b.tech | delhi technological university, new delhi \\xb7 major: electronics and communication engineering | cgpa: 7.95 \\xb7 expected year of graduation: 2019 high school | delhi public school, dwarka, new delhi \\xb7 overall score: 93.2% | sciences score(pcm and computers): 96.25% | 2014 achievements \\xb7 awarded gold medal in school for academic excellence. \\xb7 won scholar badge in school for 7 consecutive years for meritorious academic performance. \\xb7 secured a rank of 9870 in jee(mains) 2015. skills \\xb7 programming languages: c++, c, python, matlab \\xb7 electronics: arduino, digital hardware designing using vhdl academic courses  mathematics:           calculus, linear algebra & complex analysis, differential equations,                                      statistics & probability computer science: data structures and algorithms, pattern recognition, algorithm design and analysis,                                      computer architecture, fundamentals of programming electronics:              digital electronics, analog electronics, digital system design, linear integrated                                      circuits communication:     signal and systems, analog and digital communication systems  academic projects \\xb7 trained a network on mnist dataset using knn and cnn constructs and compared the accuracy of these algorithms using different optimizers and activation function. average efficiency achieved  95%(knn) | 98%(cnn) \\xb7 used k means clustering algorithm to extract the most dominant color in an rgb image. \\xb7 implementation of various basic machine learning algorithms from scratch in python. \\xb7 complete analysis of amplifier circuit- measured frequency response, gain bandwidth product and various other parameters. '"
      ]
     },
     "execution_count": 219,
     "metadata": {},
     "output_type": "execute_result"
    }
   ],
   "source": [
    "final"
   ]
  },
  {
   "cell_type": "code",
   "execution_count": 222,
   "metadata": {
    "collapsed": false
   },
   "outputs": [
    {
     "data": {
      "text/plain": [
       "352"
      ]
     },
     "execution_count": 222,
     "metadata": {},
     "output_type": "execute_result"
    }
   ],
   "source": [
    "final.find(\"education\")\n",
    "final.find(\"achievements\")"
   ]
  },
  {
   "cell_type": "code",
   "execution_count": 221,
   "metadata": {
    "collapsed": true
   },
   "outputs": [],
   "source": [
    "# education achievements projects skills experience publication honors"
   ]
  },
  {
   "cell_type": "code",
   "execution_count": null,
   "metadata": {
    "collapsed": true
   },
   "outputs": [],
   "source": []
  },
  {
   "cell_type": "code",
   "execution_count": null,
   "metadata": {
    "collapsed": true
   },
   "outputs": [],
   "source": []
  }
 ],
 "metadata": {
  "kernelspec": {
   "display_name": "Python 2",
   "language": "python",
   "name": "python2"
  },
  "language_info": {
   "codemirror_mode": {
    "name": "ipython",
    "version": 2
   },
   "file_extension": ".py",
   "mimetype": "text/x-python",
   "name": "python",
   "nbconvert_exporter": "python",
   "pygments_lexer": "ipython2",
   "version": "2.7.12"
  }
 },
 "nbformat": 4,
 "nbformat_minor": 2
}
